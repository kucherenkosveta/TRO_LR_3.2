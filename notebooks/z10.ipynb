{
 "cells": [
  {
   "cell_type": "markdown",
   "id": "09f516b6",
   "metadata": {},
   "source": [
    "# Вычислить среднюю абсолютную ошибку"
   ]
  },
  {
   "cell_type": "markdown",
   "id": "38e78d26",
   "metadata": {},
   "source": [
    "Дана модель с трендом и сезонностью, вычислить среднюю абсолютную ошибку в процентах за первые 8 периодов, для оценки точности прогноза.\n",
    "![1](https://sun9-71.userapi.com/impg/uVm5sNDKMG3f40otSGiBmE-3eTSbsfAsGHPdhQ/GUX4LLB7TI8.jpg?size=267x93&quality=96&sign=5b528f217853f635e771e94c82c38ed7&type=album)\n",
    "\n",
    "Y – фактический объем продаж за анализируемый период;\n",
    "\n",
    "Ŷ — значение прогнозной модели за аналазируемый период;\n",
    "\n",
    "n — количество периодов."
   ]
  },
  {
   "cell_type": "code",
   "execution_count": 24,
   "id": "03240b44",
   "metadata": {},
   "outputs": [],
   "source": [
    "import numpy as np"
   ]
  },
  {
   "cell_type": "code",
   "execution_count": 32,
   "id": "0c2eea45",
   "metadata": {},
   "outputs": [
    {
     "data": {
      "text/plain": [
       "0.05499298272449152"
      ]
     },
     "execution_count": 32,
     "metadata": {},
     "output_type": "execute_result"
    }
   ],
   "source": [
    "def mape(actual, pred):\n",
    "    actual, pred = np.array(actual), np.array(pred)\n",
    "    return np.mean(np.abs((actual - pred) / actual))\n",
    "\n",
    "actual = [71389948, 72030972, 72671996, 73313020, 73954044, 74595068, 75236092, 75877116]\n",
    "pred = [58062900, 69363777, 79020890, 77244336, 71054470, 74414780, 73881366, 74692113]\n",
    "\n",
    "mape(actual, pred)"
   ]
  }
 ],
 "metadata": {
  "kernelspec": {
   "display_name": "Python 3 (ipykernel)",
   "language": "python",
   "name": "python3"
  },
  "language_info": {
   "codemirror_mode": {
    "name": "ipython",
    "version": 3
   },
   "file_extension": ".py",
   "mimetype": "text/x-python",
   "name": "python",
   "nbconvert_exporter": "python",
   "pygments_lexer": "ipython3",
   "version": "3.9.13"
  }
 },
 "nbformat": 4,
 "nbformat_minor": 5
}
