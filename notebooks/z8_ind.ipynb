{
 "cells": [
  {
   "cell_type": "markdown",
   "id": "518a9419",
   "metadata": {},
   "source": [
    "## Индивидуальное задание.\n",
    "Элемент матрицы называется локальным минимумом, если он строго меньше всех\n",
    "имеющихся у него соседей. \n",
    "- Подсчитать количество локальных минимумов заданной матрицы размером 10 на 10. \n",
    "- Найти сумму модулей элементов, расположенных выше главной диагонали."
   ]
  },
  {
   "cell_type": "code",
   "execution_count": 17,
   "id": "9530a048",
   "metadata": {},
   "outputs": [],
   "source": [
    "import numpy as np"
   ]
  },
  {
   "cell_type": "markdown",
   "id": "56747f3b",
   "metadata": {},
   "source": [
    "Создаем квадратную матрицу, размерностью 10 на 10"
   ]
  },
  {
   "cell_type": "code",
   "execution_count": 18,
   "id": "273874e6",
   "metadata": {},
   "outputs": [
    {
     "data": {
      "text/plain": [
       "array([[ -6,   6,   7,  -3,   9,   1,  -1,   9,  -6,   7],\n",
       "       [ -5,  -3,   8,  -6,   7,  -1,   9,   1,   9,  -3],\n",
       "       [ -7,  -3,   2,   8,   9,  -5,   3,  -9,  -4,  -9],\n",
       "       [ -5,  -6,   1,   3, -10,  -2,  -5,  -1,   6,   3],\n",
       "       [  5,   7,  -1,   2,  -5,  -2,  -1,   9,   3, -10],\n",
       "       [  7,   0,   7,   3,  -1,  -4,   8,   0, -10,   5],\n",
       "       [  3,   6,  -5,   9,   2,  -5,  -4,  -3,   6,   3],\n",
       "       [ -3,  -3,   9, -10,   6,   2,  -7,  -8,  -1,   4],\n",
       "       [ -7,   6,   1,  -7,  -8,  -3,   4,   1,   0,   5],\n",
       "       [ -9,  -8,   7,   8,   3,  -8,   3,   7,   0,  -8]])"
      ]
     },
     "execution_count": 18,
     "metadata": {},
     "output_type": "execute_result"
    }
   ],
   "source": [
    "array = np.random.randint(-10, 10,(10, 10))\n",
    "array"
   ]
  },
  {
   "cell_type": "markdown",
   "id": "53d69cc1",
   "metadata": {},
   "source": [
    "##### Подсчитать количество локальных минимумов заданной матрицы размером 10 на 10"
   ]
  },
  {
   "cell_type": "markdown",
   "id": "831f63b7",
   "metadata": {},
   "source": [
    "Используем функцию для поиска локальных минимумов"
   ]
  },
  {
   "cell_type": "code",
   "execution_count": 19,
   "id": "3c4ebd08",
   "metadata": {},
   "outputs": [
    {
     "name": "stdout",
     "output_type": "stream",
     "text": [
      "[[False False False False False False  True False  True False]\n",
      " [False False False  True False False False False False False]\n",
      " [False False False False False  True False  True False  True]\n",
      " [False  True False False  True False  True False False False]\n",
      " [False False  True False False False False False False  True]\n",
      " [False  True False False False False False False  True False]\n",
      " [False False  True False False  True False False False False]\n",
      " [False False False  True False False False  True False False]\n",
      " [False False False False  True False False False False False]\n",
      " [ True False False False False  True False False False False]]\n"
     ]
    }
   ],
   "source": [
    "def local_minima(array_m):\n",
    "    return ((array_m < np.roll(array_m,  1, 0)) &\n",
    "            (array_m < np.roll(array_m, -1, 0)) &\n",
    "            (array_m < np.roll(array_m,  1, 1)) &\n",
    "            (array_m < np.roll(array_m, -1, 1)))\n",
    "\n",
    "b = local_minima(array)\n",
    "print(b)"
   ]
  },
  {
   "cell_type": "markdown",
   "id": "801ef85a",
   "metadata": {},
   "source": [
    "Считаем количество локальных минимумов"
   ]
  },
  {
   "cell_type": "code",
   "execution_count": 20,
   "id": "91f95d03",
   "metadata": {},
   "outputs": [
    {
     "name": "stdout",
     "output_type": "stream",
     "text": [
      "20\n"
     ]
    }
   ],
   "source": [
    "count = np.where((b == True), 1, 0).sum()\n",
    "print(count)"
   ]
  },
  {
   "cell_type": "markdown",
   "id": "f23e35f6",
   "metadata": {},
   "source": [
    "##### Найти сумму модулей элементов, расположенных выше главной диагонали."
   ]
  },
  {
   "cell_type": "markdown",
   "id": "14395794",
   "metadata": {},
   "source": [
    "Находим модули элементов матрицы"
   ]
  },
  {
   "cell_type": "code",
   "execution_count": 21,
   "id": "51ad318e",
   "metadata": {},
   "outputs": [
    {
     "name": "stdout",
     "output_type": "stream",
     "text": [
      "[[ 6  6  7  3  9  1  1  9  6  7]\n",
      " [ 5  3  8  6  7  1  9  1  9  3]\n",
      " [ 7  3  2  8  9  5  3  9  4  9]\n",
      " [ 5  6  1  3 10  2  5  1  6  3]\n",
      " [ 5  7  1  2  5  2  1  9  3 10]\n",
      " [ 7  0  7  3  1  4  8  0 10  5]\n",
      " [ 3  6  5  9  2  5  4  3  6  3]\n",
      " [ 3  3  9 10  6  2  7  8  1  4]\n",
      " [ 7  6  1  7  8  3  4  1  0  5]\n",
      " [ 9  8  7  8  3  8  3  7  0  8]]\n"
     ]
    }
   ],
   "source": [
    "modul = np.absolute(array)\n",
    "print(modul)"
   ]
  },
  {
   "cell_type": "markdown",
   "id": "51564e64",
   "metadata": {},
   "source": [
    "Находим сумму элементов, расположенных выше главной диагонали, при помощи функции trace(), которая позволяет получить сумму по главной диагонали со смещением offset"
   ]
  },
  {
   "cell_type": "code",
   "execution_count": 22,
   "id": "d95773a1",
   "metadata": {},
   "outputs": [
    {
     "data": {
      "text/plain": [
       "280"
      ]
     },
     "execution_count": 22,
     "metadata": {},
     "output_type": "execute_result"
    }
   ],
   "source": [
    "summa = sum([modul.trace(offset=i) for i in range(0,11)])\n",
    "summa"
   ]
  }
 ],
 "metadata": {
  "kernelspec": {
   "display_name": "Python 3 (ipykernel)",
   "language": "python",
   "name": "python3"
  },
  "language_info": {
   "codemirror_mode": {
    "name": "ipython",
    "version": 3
   },
   "file_extension": ".py",
   "mimetype": "text/x-python",
   "name": "python",
   "nbconvert_exporter": "python",
   "pygments_lexer": "ipython3",
   "version": "3.9.13"
  }
 },
 "nbformat": 4,
 "nbformat_minor": 5
}
